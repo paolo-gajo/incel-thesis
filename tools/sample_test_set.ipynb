{
 "cells": [
  {
   "cell_type": "code",
   "execution_count": 2,
   "metadata": {},
   "outputs": [
    {
     "name": "stdout",
     "output_type": "stream",
     "text": [
      "100\n",
      "     row_id  post_thread_num                   user  hs  misogynous  racist  \\\n",
      "0    127091               48              StronzOne   1           1       0   \n",
      "1     16323               34              R o s s o   1           1       1   \n",
      "2    196842                3               borndied   1           1       0   \n",
      "3     29083               16        Uranio la Merda   1           1       0   \n",
      "4     80581               16     Principe Kekistano   1           1       0   \n",
      "..      ...              ...                    ...  ..         ...     ...   \n",
      "245   55713               66             Dovahkiin_   0           0       0   \n",
      "246   96883                2                Gianni9   0           0       0   \n",
      "247     328               12  Sonob rutta utencessa   0           0       0   \n",
      "248   10899                6    ….. ….. ….. ….. …..   0           0       0   \n",
      "249   48967               24               Pegasus1   0           0       0   \n",
      "\n",
      "     multi                                               text  \\\n",
      "0        1  Ma certo, sempre mettere gli addominali. Quand...   \n",
      "1        3  Compagno le n3gr3 sono oggettivamente brutte, ...   \n",
      "2        1  Quoto.. è ridicola Anch’io se fossi un 7 mi an...   \n",
      "3        1  in spiaggia 6 anni fa, ero a una festa, con op...   \n",
      "4        1  sarebbero solo da scopare e buttare nel cesso ...   \n",
      "..     ...                                                ...   \n",
      "245      0  Ma i messaggi di Meidei hanno il -1 di Wizard ...   \n",
      "246      0  No! Io ho notato che un bello viene mangiato c...   \n",
      "247      0  Non voglio sembrare invidiosa ma quella di fac...   \n",
      "248      0                     Hai mai scopato con un brutto?   \n",
      "249      0  Hai sbagliato ha bloccarla dall'inizio, ora sb...   \n",
      "\n",
      "                                            quote_text data_type  \n",
      "0    CITAZIONE (Clochard Schizoide @ 9/11/2021, 11:...      test  \n",
      "1    CITAZIONE (SigmaSuke @ 22/12/2021, 18:07) Non ...      test  \n",
      "2    CITAZIONE (bruttomanonpiaccio @ 23/8/2022, 01:...      test  \n",
      "3                                                  NaN      test  \n",
      "4    CITAZIONE (Monkifrog @ 28/7/2021, 11:49) Sono ...      test  \n",
      "..                                                 ...       ...  \n",
      "245                                                NaN      test  \n",
      "246                                                NaN      test  \n",
      "247                                                NaN      test  \n",
      "248  CITAZIONE (Ecate20008 @ 9/8/2019, 14:46) Un poeta      test  \n",
      "249                                                NaN      test  \n",
      "\n",
      "[250 rows x 10 columns]\n"
     ]
    }
   ],
   "source": [
    "import pandas as pd\n",
    "import datetime\n",
    "\n",
    "# Read the CSV file into a DataFrame\n",
    "df = pd.read_csv('/home/pgajo/working/data/datasets/Italian/Il_forum_dei_brutti/IFC-22-IT_updated_test_subset_10k_cleaned_len561.csv')\n",
    "\n",
    "# Filter the rows where 'multi' is not 0\n",
    "non_zero_multi_df = df[df['multi'] != 0]\n",
    "print(len(non_zero_multi_df))\n",
    "# Sample 150 rows where 'multi' == 0\n",
    "zero_multi_sample_df = df[df['multi'] == 0].sample(n=150, random_state=42)\n",
    "\n",
    "# Concatenate the two DataFrames\n",
    "result_df = pd.concat([non_zero_multi_df, zero_multi_sample_df], ignore_index=True)\n",
    "\n",
    "# Display the resulting DataFrame\n",
    "print(result_df)\n",
    "\n",
    "# Save the DataFrame with a suffix in the filename indicating the date and the length of the dataset\n",
    "date_suffix = datetime.datetime.now().strftime('%Y%m%d')\n",
    "length_suffix = len(result_df)\n",
    "new_filename = f'/home/pgajo/working/data/datasets/Italian/Il_forum_dei_brutti/IFC-22-IT_updated_test_subset_10k_cleaned_{date_suffix}_{length_suffix}.csv'\n",
    "\n",
    "result_df.to_csv(new_filename, index=False)"
   ]
  }
 ],
 "metadata": {
  "kernelspec": {
   "display_name": "pgajo-Fz_qUQZq",
   "language": "python",
   "name": "python3"
  },
  "language_info": {
   "codemirror_mode": {
    "name": "ipython",
    "version": 3
   },
   "file_extension": ".py",
   "mimetype": "text/x-python",
   "name": "python",
   "nbconvert_exporter": "python",
   "pygments_lexer": "ipython3",
   "version": "3.8.10"
  },
  "orig_nbformat": 4
 },
 "nbformat": 4,
 "nbformat_minor": 2
}
