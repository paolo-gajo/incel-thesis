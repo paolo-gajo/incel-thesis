{
 "cells": [
  {
   "cell_type": "code",
   "execution_count": 2,
   "metadata": {},
   "outputs": [
    {
     "name": "stderr",
     "output_type": "stream",
     "text": [
      "Downloading...\n",
      "From (uriginal): https://drive.google.com/uc?export=download&id=1xKWPyzR_USZm_6HLkeyCTtHeI1W6xdbT\n",
      "From (redirected): https://drive.google.com/uc?export=download&id=1xKWPyzR_USZm_6HLkeyCTtHeI1W6xdbT&confirm=t&uuid=3ee7309a-e516-4846-b3a9-76888eaaaddf\n",
      "To: /storage/home/pgajo/working/tools/incel-bert-base-multilingual-cased-100k_italian.zip\n",
      "100%|██████████| 662M/662M [00:06<00:00, 107MB/s]  \n"
     ]
    },
    {
     "name": "stdout",
     "output_type": "stream",
     "text": [
      "Download and extraction complete.\n"
     ]
    }
   ],
   "source": [
    "import gdown\n",
    "import zipfile\n",
    "import os\n",
    "\n",
    "# Set the folder ID from the shareable link\n",
    "FOLDER_ID = \"1xKWPyzR_USZm_6HLkeyCTtHeI1W6xdbT\"\n",
    "\n",
    "# Google Drive API URL\n",
    "API_BASE_URL = \"https://drive.google.com/uc?export=download\"\n",
    "\n",
    "filename='folder.zip'\n",
    "\n",
    "# Download the zip file\n",
    "gdown.download(f\"{API_BASE_URL}&id={FOLDER_ID}\", filename, quiet=False)\n",
    "\n",
    "# Extract the contents of the zip file\n",
    "with zipfile.ZipFile(filename, \"r\") as zip_ref:\n",
    "    zip_ref.extractall(filename[:-4])\n",
    "\n",
    "# Remove the zip file\n",
    "os.remove(filename)\n",
    "\n",
    "print(\"Download and extraction complete.\")"
   ]
  }
 ],
 "metadata": {
  "kernelspec": {
   "display_name": "pgajo-Fz_qUQZq",
   "language": "python",
   "name": "python3"
  },
  "language_info": {
   "codemirror_mode": {
    "name": "ipython",
    "version": 3
   },
   "file_extension": ".py",
   "mimetype": "text/x-python",
   "name": "python",
   "nbconvert_exporter": "python",
   "pygments_lexer": "ipython3",
   "version": "3.8.10"
  },
  "orig_nbformat": 4
 },
 "nbformat": 4,
 "nbformat_minor": 2
}
