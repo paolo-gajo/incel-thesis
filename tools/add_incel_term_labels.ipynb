{
 "cells": [
  {
   "cell_type": "code",
   "execution_count": 7,
   "metadata": {},
   "outputs": [
    {
     "name": "stdout",
     "output_type": "stream",
     "text": [
      "number of rows with incel terms: 2047\n",
      "number of rows with NO incel terms: 3156\n"
     ]
    }
   ],
   "source": [
    "import pandas as pd\n",
    "\n",
    "df = pd.read_csv('/home/pgajo/working/incels/data/datasets/English/Incels.is/IFD-EN-5203_splits.csv')\n",
    "\n",
    "# create a vocabulary of words\n",
    "vocab = [\n",
    "'foid',\n",
    "'worship',\n",
    "'racepill',\n",
    "'hapa',\n",
    "'slut',\n",
    "'gold',\n",
    "'digger',\n",
    "'currycel',\n",
    "'foid',\n",
    "'cunt',\n",
    "'gold diggers',\n",
    "'cumskin',\n",
    "'femoid',\n",
    "'jb',\n",
    "'jbw',\n",
    "'blackcel',\n",
    "'whore',\n",
    "'normie',\n",
    "'ricecel',\n",
    "'noodlewhore',\n",
    "'landwhale',\n",
    "'chad',\n",
    "'whitecel',\n",
    "'curryland',\n",
    "'roastie',\n",
    "'chadlite',\n",
    "'shitskin',\n",
    "'deathnik',\n",
    "'gf',\n",
    "'gigachad',\n",
    "'slavs',\n",
    "'deathnic',\n",
    "'Stacie',\n",
    "'tyrone',\n",
    "'curry',\n",
    "'aryan',\n",
    "'Stacy',\n",
    "'normalfag',\n",
    "]\n",
    "\n",
    "# create a new empty column in the dataframe called 'incel_terms'\n",
    "df['incel_terms'] = 0\n",
    "\n",
    "# for each row in the dataframe in the 'text' column check if any of the words in the vocabulary are present, then mark the 'incel_terms' column with a 1 if any of the words are present\n",
    "for i in df.index:\n",
    "    text = df.at[i, 'text']\n",
    "    if any(term in text for term in vocab):\n",
    "        df.at[i, 'incel_terms'] = 1\n",
    "\n",
    "# print how many terms of each type there are\n",
    "print('number of rows with incel terms:', len(df[df['incel_terms'] == 1]))\n",
    "print('number of rows with NO incel terms:', len(df[df['incel_terms'] == 0]))\n",
    "\n",
    "# save the dataframe to a new csv file\n",
    "df.to_csv('/home/pgajo/working/incels/data/datasets/English/Incels.is/IFD-EN-5203_splits_incel_terms.csv', index=False)\n"
   ]
  }
 ],
 "metadata": {
  "kernelspec": {
   "display_name": "pgajo-Fz_qUQZq",
   "language": "python",
   "name": "python3"
  },
  "language_info": {
   "codemirror_mode": {
    "name": "ipython",
    "version": 3
   },
   "file_extension": ".py",
   "mimetype": "text/x-python",
   "name": "python",
   "nbconvert_exporter": "python",
   "pygments_lexer": "ipython3",
   "version": "3.8.10"
  },
  "orig_nbformat": 4
 },
 "nbformat": 4,
 "nbformat_minor": 2
}
