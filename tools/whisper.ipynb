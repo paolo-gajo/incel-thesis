{
 "cells": [
  {
   "cell_type": "code",
   "execution_count": 2,
   "metadata": {},
   "outputs": [
    {
     "ename": "SyntaxError",
     "evalue": "invalid syntax (3039885772.py, line 3)",
     "output_type": "error",
     "traceback": [
      "\u001b[0;36m  Cell \u001b[0;32mIn[2], line 3\u001b[0;36m\u001b[0m\n\u001b[0;31m    import ffmpeg-python\u001b[0m\n\u001b[0m                 ^\u001b[0m\n\u001b[0;31mSyntaxError\u001b[0m\u001b[0;31m:\u001b[0m invalid syntax\n"
     ]
    }
   ],
   "source": [
    "import openai\n",
    "import os\n",
    "import ffmpeg\n",
    "\n",
    "def convert_audio_to_wav(input_path, output_path):\n",
    "    try:\n",
    "        stream = ffmpeg.input(input_path)\n",
    "        stream = ffmpeg.output(stream, output_path, format='wav', acodec='pcm_s16le', ac=1, ar=16000)\n",
    "        ffmpeg.run(stream)\n",
    "        return output_path\n",
    "    except Exception as e:\n",
    "        print(f\"Error converting audio file: {e}\")\n",
    "        return None\n",
    "\n",
    "def transcribe_audio(file_path):\n",
    "    with open(file_path, \"rb\") as f:\n",
    "        audio_data = f.read()\n",
    "    \n",
    "    response = openai.Audio.create(\n",
    "        audio=audio_data,\n",
    "        purpose=\"asr\",\n",
    "        sample_rate=16000, # Update the sample rate according to your audio file\n",
    "        format=\"wav\" # Update the format according to your audio file\n",
    "    )\n",
    "    \n",
    "    return response[\"choices\"][0][\"text\"]\n",
    "\n",
    "# Set your OpenAI API key\n",
    "openai.api_key = os.environ['OPENAI_API_KEY']\n",
    "\n",
    "audio_file_path = '/home/pgajo/working/WhatsApp Video 2023-03-16 at 14.50.32.mp4'\n",
    "converted_audio_file_path = '/home/pgajo/working/converted_audio.wav'\n",
    "\n",
    "# Convert audio file to supported format\n",
    "converted_audio = convert_audio_to_wav(audio_file_path, converted_audio_file_path)\n",
    "\n",
    "if converted_audio:\n",
    "    # Transcribe the audio\n",
    "    transcript = transcribe_audio(converted_audio)\n",
    "    print(\"Transcript:\")\n",
    "    print(transcript)\n",
    "else:\n",
    "    print(\"Could not transcribe the audio.\")\n"
   ]
  },
  {
   "cell_type": "code",
   "execution_count": null,
   "metadata": {},
   "outputs": [],
   "source": [
    "os.environ['HUGGINGFACE_API_TOKEN_WRITE']"
   ]
  }
 ],
 "metadata": {
  "kernelspec": {
   "display_name": "pgajo-Fz_qUQZq",
   "language": "python",
   "name": "python3"
  },
  "language_info": {
   "codemirror_mode": {
    "name": "ipython",
    "version": 3
   },
   "file_extension": ".py",
   "mimetype": "text/x-python",
   "name": "python",
   "nbconvert_exporter": "python",
   "pygments_lexer": "ipython3",
   "version": "3.8.10"
  },
  "orig_nbformat": 4
 },
 "nbformat": 4,
 "nbformat_minor": 2
}
