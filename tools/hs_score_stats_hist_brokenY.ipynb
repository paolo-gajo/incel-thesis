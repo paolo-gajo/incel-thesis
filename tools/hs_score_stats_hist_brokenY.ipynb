{
 "cells": [
  {
   "cell_type": "code",
   "execution_count": 2,
   "metadata": {},
   "outputs": [
    {
     "name": "stdout",
     "output_type": "stream",
     "text": [
      "Mean: 17.64\n",
      "25% Quartile: 4.35\n",
      "Median: 13.89\n",
      "75% Quartile: 26.32\n",
      "Standard Deviation: 17.05\n"
     ]
    },
    {
     "data": {
      "image/png": "[encoded data removed]",
      "text/plain": [
       "<Figure size 800x300 with 2 Axes>"
      ]
     },
     "metadata": {},
     "output_type": "display_data"
    }
   ],
   "source": [
    "import pandas as pd\n",
    "import numpy as np\n",
    "import matplotlib.pyplot as plt\n",
    "\n",
    "df = pd.read_csv(\"/home/pgajo/working/data/datasets/English/Incels.is/IFC-22-EN_updated_hs_scores_223k.csv\")\n",
    "# df = pd.read_csv(\"/home/pgajo/working/data/datasets/Italian/Il_forum_dei_brutti/IFC-22-IT_updated.csv_hs_scores_30k.csv\")\n",
    "# df = pd.read_csv(\"/home/pgajo/working/data/datasets/English/Incels.is/IFC-22-EN_updated_hs_scores_223k_exclOP.csv\")\n",
    "# df = pd.read_csv(\"/home/pgajo/working/data/datasets/Italian/Il_forum_dei_brutti/IFC-22-IT_updated.csv_hs_scores_30k_exclOP.csv\")\n",
    "df['hs_score'] = df['hs_score'] * 100\n",
    "# Set the DPI and figsize\n",
    "\n",
    "%matplotlib inline\n",
    "plt.rcParams['figure.dpi'] = 100\n",
    "plt.rcParams['figure.figsize'] = (8, 3)\n",
    "mean = round(df['hs_score'].mean(), 2)\n",
    "q25 = round(df['hs_score'].quantile(0.25), 2)\n",
    "median = round(df['hs_score'].median(), 2)\n",
    "q75 = round(df['hs_score'].quantile(0.75), 2)\n",
    "std_dev = round(df['hs_score'].std(), 2)\n",
    "\n",
    "print(\"Mean:\", mean)\n",
    "print(\"25% Quartile:\", q25)\n",
    "print(\"Median:\", median)\n",
    "print(\"75% Quartile:\", q75)\n",
    "print(\"Standard Deviation:\", std_dev)\n",
    "\n",
    "# Create subplots with 2 rows\n",
    "fig, (ax1, ax2) = plt.subplots(2, 1, sharex=True)\n",
    "\n",
    "# Plot the histogram on both axes\n",
    "ax1.hist(df['hs_score'], bins=100, edgecolor='black', color='#00bfc4')\n",
    "ax2.hist(df['hs_score'], bins=100, edgecolor='black', color='#00bfc4')\n",
    "\n",
    "# Set y-axis limits for the 'zoom in' effect\n",
    "ax1.set_ylim(45000, 50000)  # Upper plot\n",
    "ax2.set_ylim(0, 8000)  # Lower plot\n",
    "\n",
    "# Hide the spines between ax and ax2\n",
    "ax1.spines['bottom'].set_visible(False)\n",
    "ax2.spines['top'].set_visible(False)\n",
    "ax1.xaxis.tick_top()\n",
    "ax1.tick_params(labeltop=False)  # Don't put tick labels at the top\n",
    "ax2.xaxis.tick_bottom()\n",
    "\n",
    "# This function is used to create a break mark on the y-axis\n",
    "def break_y_axis_top(ax, d=.015):\n",
    "    kwargs = dict(transform=ax.transAxes, color='k', clip_on=False)\n",
    "    ax.plot((-d,+d),(-d,+d), **kwargs)\n",
    "    ax.plot((1-d,1+d),(-d,+d), **kwargs)\n",
    "\n",
    "def break_y_axis_bottom(ax, d=.015):\n",
    "    kwargs = dict(transform=ax.transAxes, color='k', clip_on=False)\n",
    "    ax2.plot((-d, +d), (1 - d, 1 + d), **kwargs)  # bottom-left diagonal\n",
    "    ax2.plot((1 - d, 1 + d), (1 - d, 1 + d), **kwargs)  # bottom-right diagonal\n",
    "\n",
    "\n",
    "break_y_axis_top(ax1)\n",
    "break_y_axis_bottom(ax2)\n",
    "\n",
    "# plt.xlabel('HS Score')\n",
    "plt.ylabel('Frequency')\n",
    "# fig.text(0.03, 0.5, 'Frequency', va='center', rotation='vertical')  # Adjust the positioning of the label here\n",
    "chart_filename = '/home/pgajo/working/images_tables/3_hate_forecasting/monolingual_setting/en_hs_score_hist_x100_incl0_thin_brokenY_100bins_noxlabel.pdf'\n",
    "# chart_filename = '/home/pgajo/working/images_tables/3_hate_forecasting/monolingual_setting/en_hs_score_hist_x100_incl0_thin_brokenY_excl0.pdf'\n",
    "plt.savefig(chart_filename, bbox_inches='tight', pad_inches=0.05, dpi=300)\n",
    "plt.show()\n"
   ]
  },
  {
   "cell_type": "code",
   "execution_count": null,
   "metadata": {},
   "outputs": [],
   "source": []
  }
 ],
 "metadata": {
  "kernelspec": {
   "display_name": "pgajo-Fz_qUQZq",
   "language": "python",
   "name": "python3"
  },
  "language_info": {
   "codemirror_mode": {
    "name": "ipython",
    "version": 3
   },
   "file_extension": ".py",
   "mimetype": "text/x-python",
   "name": "python",
   "nbconvert_exporter": "python",
   "pygments_lexer": "ipython3",
   "version": "3.8.10"
  },
  "orig_nbformat": 4
 },
 "nbformat": 4,
 "nbformat_minor": 2
}
