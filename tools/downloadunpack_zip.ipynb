{
 "cells": [
  {
   "cell_type": "code",
   "execution_count": 1,
   "metadata": {},
   "outputs": [],
   "source": [
    "import urllib.request\n",
    "\n",
    "import os\n",
    "from tqdm import tqdm\n",
    "\n",
    "url = 'https://osf.io/download/ryvs8/' # replace with your URL\n",
    "output_folder = '/home/pgajo/working/pt_models' # replace with your output folder path\n"
   ]
  },
  {
   "cell_type": "code",
   "execution_count": null,
   "metadata": {},
   "outputs": [],
   "source": [
    "\n",
    "# Download the zip file and display a progress bar\n",
    "with urllib.request.urlopen(url) as response, open(\"hate_bert.zip\", 'wb') as out_file:\n",
    "    content_length = int(response.headers['Content-Length'])\n",
    "    pbar = tqdm(total=content_length, unit=\"B\", unit_scale=True)\n",
    "    while True:\n",
    "        data = response.read(1024)\n",
    "        if not data:\n",
    "            break\n",
    "        out_file.write(data)\n",
    "        pbar.update(len(data))\n",
    "    pbar.close()\n"
   ]
  },
  {
   "cell_type": "code",
   "execution_count": 7,
   "metadata": {},
   "outputs": [],
   "source": [
    "import zipfile\n",
    "filename = '/home/pgajo/working/data/datasets/Italian/haspeede_evalita/2020/haspeede2_dev.zip'\n",
    "password='zNw3tCszKWcpDahq'\n",
    "# Extract the contents of the zip file to a folder\n",
    "with zipfile.ZipFile(filename, 'r') as zip_ref:\n",
    "    zip_ref.extractall(os.path.join(os.path.dirname(filename),os.path.basename(filename).split('.')[0]), pwd=password.encode('utf-8'))\n"
   ]
  }
 ],
 "metadata": {
  "kernelspec": {
   "display_name": "pgajo-Fz_qUQZq",
   "language": "python",
   "name": "python3"
  },
  "language_info": {
   "codemirror_mode": {
    "name": "ipython",
    "version": 3
   },
   "file_extension": ".py",
   "mimetype": "text/x-python",
   "name": "python",
   "nbconvert_exporter": "python",
   "pygments_lexer": "ipython3",
   "version": "3.8.10"
  },
  "orig_nbformat": 4
 },
 "nbformat": 4,
 "nbformat_minor": 2
}
