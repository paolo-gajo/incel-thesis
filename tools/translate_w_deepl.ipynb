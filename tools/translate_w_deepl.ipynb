{
 "cells": [
  {
   "cell_type": "code",
   "execution_count": 1,
   "metadata": {},
   "outputs": [
    {
     "name": "stderr",
     "output_type": "stream",
     "text": [
      "Translating rows:  27%|██▋       | 1411/5203 [14:16<38:20,  1.65it/s]  \n"
     ]
    },
    {
     "ename": "KeyError",
     "evalue": "'translations'",
     "output_type": "error",
     "traceback": [
      "\u001b[0;31m---------------------------------------------------------------------------\u001b[0m",
      "\u001b[0;31mKeyError\u001b[0m                                  Traceback (most recent call last)",
      "Cell \u001b[0;32mIn[1], line 26\u001b[0m\n\u001b[1;32m     24\u001b[0m rows \u001b[39m=\u001b[39m \u001b[39mlist\u001b[39m(reader)\n\u001b[1;32m     25\u001b[0m \u001b[39mfor\u001b[39;00m row \u001b[39min\u001b[39;00m tqdm(rows, desc\u001b[39m=\u001b[39m\u001b[39m\"\u001b[39m\u001b[39mTranslating rows\u001b[39m\u001b[39m\"\u001b[39m):\n\u001b[0;32m---> 26\u001b[0m     row[headers\u001b[39m.\u001b[39mindex(\u001b[39m'\u001b[39m\u001b[39mtext\u001b[39m\u001b[39m'\u001b[39m)] \u001b[39m=\u001b[39m translate_text(row[headers\u001b[39m.\u001b[39;49mindex(\u001b[39m'\u001b[39;49m\u001b[39mtext\u001b[39;49m\u001b[39m'\u001b[39;49m)], \u001b[39m'\u001b[39;49m\u001b[39mIT\u001b[39;49m\u001b[39m'\u001b[39;49m)\n\u001b[1;32m     27\u001b[0m     writer\u001b[39m.\u001b[39mwriterow(row)\n",
      "Cell \u001b[0;32mIn[1], line 16\u001b[0m, in \u001b[0;36mtranslate_text\u001b[0;34m(text, target_language)\u001b[0m\n\u001b[1;32m     14\u001b[0m headers \u001b[39m=\u001b[39m {\u001b[39m\"\u001b[39m\u001b[39mContent-Type\u001b[39m\u001b[39m\"\u001b[39m: \u001b[39m\"\u001b[39m\u001b[39mapplication/x-www-form-urlencoded\u001b[39m\u001b[39m\"\u001b[39m}\n\u001b[1;32m     15\u001b[0m response \u001b[39m=\u001b[39m requests\u001b[39m.\u001b[39mrequest(\u001b[39m\"\u001b[39m\u001b[39mPOST\u001b[39m\u001b[39m\"\u001b[39m, url, headers\u001b[39m=\u001b[39mheaders, data\u001b[39m=\u001b[39mpayload)\n\u001b[0;32m---> 16\u001b[0m translated_text \u001b[39m=\u001b[39m json\u001b[39m.\u001b[39;49mloads(response\u001b[39m.\u001b[39;49mtext)[\u001b[39m'\u001b[39;49m\u001b[39mtranslations\u001b[39;49m\u001b[39m'\u001b[39;49m][\u001b[39m0\u001b[39m][\u001b[39m'\u001b[39m\u001b[39mtext\u001b[39m\u001b[39m'\u001b[39m]\n\u001b[1;32m     17\u001b[0m \u001b[39mreturn\u001b[39;00m translated_text\n",
      "\u001b[0;31mKeyError\u001b[0m: 'translations'"
     ]
    }
   ],
   "source": [
    "import pandas as pd\n",
    "import requests\n",
    "import json\n",
    "import csv\n",
    "from tqdm import tqdm\n",
    "\n",
    "def translate_text(text, target_language):\n",
    "    url = \"https://api-free.deepl.com/v2/translate\"\n",
    "    payload = {\n",
    "        \"auth_key\": \"e056a862-0b99-c41d-46a9-57f62ab6cf61:fx\",\n",
    "        \"text\": text,\n",
    "        \"target_lang\": target_language,\n",
    "    }\n",
    "    headers = {\"Content-Type\": \"application/x-www-form-urlencoded\"}\n",
    "    response = requests.request(\"POST\", url, headers=headers, data=payload)\n",
    "    translated_text = json.loads(response.text)['translations'][0]['text']\n",
    "    return translated_text\n",
    "\n",
    "with open('/home/pgajo/working/incels/data/datasets/English/Incels.is/IFD-EN-5203.csv', 'r') as inp, open('/home/pgajo/working/incels/data/datasets/English/Incels.is/IFD-EN-5203_it.csv', 'w', newline='') as out:\n",
    "    reader = csv.reader(inp)\n",
    "    writer = csv.writer(out)\n",
    "    headers = next(reader)\n",
    "    writer.writerow(headers)\n",
    "    rows = list(reader)\n",
    "    for row in tqdm(rows, desc=\"Translating rows\"):\n",
    "        row[headers.index('text')] = translate_text(row[headers.index('text')], 'IT')\n",
    "        writer.writerow(row)"
   ]
  },
  {
   "cell_type": "code",
   "execution_count": null,
   "metadata": {},
   "outputs": [],
   "source": []
  }
 ],
 "metadata": {
  "kernelspec": {
   "display_name": "pgajo-Fz_qUQZq",
   "language": "python",
   "name": "python3"
  },
  "language_info": {
   "codemirror_mode": {
    "name": "ipython",
    "version": 3
   },
   "file_extension": ".py",
   "mimetype": "text/x-python",
   "name": "python",
   "nbconvert_exporter": "python",
   "pygments_lexer": "ipython3",
   "version": "3.8.10"
  },
  "orig_nbformat": 4
 },
 "nbformat": 4,
 "nbformat_minor": 2
}
