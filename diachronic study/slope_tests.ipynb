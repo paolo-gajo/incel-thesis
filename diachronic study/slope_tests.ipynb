{
 "cells": [
  {
   "cell_type": "code",
   "execution_count": 1,
   "metadata": {},
   "outputs": [
    {
     "name": "stdout",
     "output_type": "stream",
     "text": [
      "Group 1 normality test: ShapiroResult(statistic=0.9626767039299011, pvalue=0.8159100413322449)\n",
      "Group 2 normality test: ShapiroResult(statistic=0.702690839767456, pvalue=0.0009496074635535479)\n",
      "Levene's test: LeveneResult(statistic=0.00460921273508402, pvalue=0.9466207285255623)\n"
     ]
    },
    {
     "data": {
      "text/plain": [
       "'incelsis_slopes_ttest_result.txt'"
      ]
     },
     "execution_count": 1,
     "metadata": {},
     "output_type": "execute_result"
    }
   ],
   "source": [
    "import numpy as np\n",
    "import scipy.stats as stats\n",
    "from scipy.stats import levene\n",
    "import pandas as pd\n",
    "\n",
    "file_path = r'C:\\Users\\paolo\\My Drive\\UNI_Google_Drive\\NLP_Google_Drive\\incels_2022-2023\\DIT_2023_THESIS\\diachronic study\\incelsis_slopes.csv'\n",
    "df = pd.read_csv(file_path)\n",
    "\n",
    "# Data\n",
    "group1 = df['gainer_slope']\n",
    "group2 = df['loser_slope']\n",
    "\n",
    "# Shapiro-Wilk test for normality\n",
    "shapiro1 = stats.shapiro(group1)\n",
    "shapiro2 = stats.shapiro(group2)\n",
    "\n",
    "print(\"Group 1 normality test:\", shapiro1)\n",
    "print(\"Group 2 normality test:\", shapiro2)\n",
    "\n",
    "# Levene's test for equal variances\n",
    "levene_test = levene(group1, group2)\n",
    "\n",
    "print(\"Levene's test:\", levene_test)\n",
    "\n",
    "import scipy.stats as stats\n",
    "\n",
    "t_test_result = stats.ttest_ind(group1, group2)\n",
    "\n",
    "# Save output to a text file\n",
    "import os\n",
    "\n",
    "filename = os.path.basename(file_path)\n",
    "filename_without_ext = os.path.splitext(filename)[0]\n",
    "output_filename = filename_without_ext + '_ttest_result.txt'\n",
    "output_filename"
   ]
  },
  {
   "cell_type": "code",
   "execution_count": null,
   "metadata": {},
   "outputs": [],
   "source": [
    "print(\"t-statistic:\", t_test_result.statistic)\n",
    "print(\"p-value:\", t_test_result.pvalue)"
   ]
  },
  {
   "cell_type": "code",
   "execution_count": 2,
   "metadata": {},
   "outputs": [
    {
     "name": "stdout",
     "output_type": "stream",
     "text": [
      "Mann-Whitney U test statistic: 100.0\n",
      "p-value: 0.00018267179110955002\n"
     ]
    }
   ],
   "source": [
    "import scipy.stats as stats\n",
    "\n",
    "# Mann-Whitney U test\n",
    "mann_whitney_result = stats.mannwhitneyu(group1, group2)\n",
    "\n",
    "with open(output_filename, 'w') as f:\n",
    "    f.write(\"Mann-Whitney U test statistic: {}\\n\".format(mann_whitney_result.statistic))\n",
    "    f.write(\"p-value: {}\\n\".format(mann_whitney_result.pvalue))\n",
    "\n",
    "print(\"Mann-Whitney U test statistic:\", mann_whitney_result.statistic)\n",
    "print(\"p-value:\", mann_whitney_result.pvalue)"
   ]
  }
 ],
 "metadata": {
  "kernelspec": {
   "display_name": "Python 3",
   "language": "python",
   "name": "python3"
  },
  "language_info": {
   "codemirror_mode": {
    "name": "ipython",
    "version": 3
   },
   "file_extension": ".py",
   "mimetype": "text/x-python",
   "name": "python",
   "nbconvert_exporter": "python",
   "pygments_lexer": "ipython3",
   "version": "3.9.13"
  },
  "orig_nbformat": 4,
  "vscode": {
   "interpreter": {
    "hash": "4aa40094c3850528945d890b7f3ad34a936c23ba0ed0f731197141d7b4857f54"
   }
  }
 },
 "nbformat": 4,
 "nbformat_minor": 2
}
