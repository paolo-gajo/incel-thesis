{
 "cells": [
  {
   "cell_type": "code",
   "execution_count": null,
   "metadata": {},
   "outputs": [],
   "source": [
    "import torch\n",
    "from datasets import Dataset\n",
    "from transformers import BertTokenizer, BertForMaskedLM, DataCollatorForLanguageModeling, AutoTokenizer, AutoModelForMaskedLM, Trainer, TrainingArguments\n",
    "import os\n",
    "import pickle\n",
    "\n",
    "model_name = 'bert-base-multilingual-cased'\n",
    "# model_name = 'xlm-roberta-base'\n",
    "\n",
    "tokenizer = AutoTokenizer.from_pretrained(model_name)\n",
    "\n",
    "# Load your own corpus\n",
    "def load_custom_corpus(file_path):\n",
    "    import pandas as pd\n",
    "    df = pd.read_csv(file_path)\n",
    "    df = df.fillna('')\n",
    "    df = df[df['data_type'] == ''] # only take rows that do not belong to train/dev/test of IFD-EN-5203\n",
    "    sentences = [sent for sent in df['text']]\n",
    "    return {'text': sentences}\n",
    "\n",
    "def tokenize_function(examples):\n",
    "    return tokenizer((examples['text']), truncation=True, max_length=128, padding='max_length')\n",
    "\n",
    "# file_path_en = '/home/pgajo/working/data/datasets/English/Incels.is/IFC-22-EN_datatype.csv'  # Replace this with the path to your corpus file\n",
    "# corpus_en = load_custom_corpus(file_path_en)\n",
    "# dataset_en = Dataset.from_dict(corpus_en)\n",
    "# tokenized_dataset_en = dataset_en.map(tokenize_function, batched=True, remove_columns=['text'])\n",
    "\n",
    "# filename_en = 'IFC-22-EN_empty_datatype.pickle'\n",
    "\n",
    "# if not os.path.isfile(filename_en):\n",
    "#     # Save the tokenized_dataset as a pickle file\n",
    "#     with open(filename_en, 'wb') as file:\n",
    "#         pickle.dump(tokenized_dataset_en, file)\n",
    "# else:\n",
    "#     print(f\"{filename_en} already exists. Not overwriting.\")\n",
    "\n",
    "# Load the tokenized_dataset from the pickle file\n",
    "with open('/home/pgajo/working/data/datasets/English/Incels.is/IFC-22-EN_empty_datatype.pickle', 'rb') as file:\n",
    "    tokenized_dataset_en = pickle.load(file)\n",
    "\n",
    "file_path_it = '/home/pgajo/working/data/datasets/Italian/Il_forum_dei_brutti/IFC-22-IT.csv'  # Replace this with the path to your corpus file\n",
    "corpus_it = load_custom_corpus(file_path_it)\n",
    "dataset_it = Dataset.from_dict(corpus_it)\n",
    "tokenized_dataset_it = dataset_it.map(tokenize_function, batched=True, remove_columns=['text'])\n",
    "\n",
    "filename_it = file_path_it.split('.csv')[0]+'_empty_datatype.pickle'\n",
    "\n",
    "if not os.path.isfile(filename_it):\n",
    "    # Save the tokenized_dataset as a pickle file\n",
    "    with open(filename_it, 'wb') as file:\n",
    "        pickle.dump(tokenized_dataset_it, file)\n",
    "else:\n",
    "    print(f\"{filename_it} already exists. Not overwriting.\")"
   ]
  },
  {
   "cell_type": "code",
   "execution_count": null,
   "metadata": {},
   "outputs": [],
   "source": [
    "# Set a seed to ensure reproducibility when shuffling\n",
    "seed = 42\n",
    "sample_n = 5_000\n",
    "tokenized_dataset_en = tokenized_dataset_en.shuffle(seed=seed)\n",
    "tokenized_dataset_en = tokenized_dataset_en.select(range(sample_n))\n",
    "tokenized_dataset_it = tokenized_dataset_it.shuffle(seed=seed)\n",
    "tokenized_dataset_it = tokenized_dataset_it.select(range(sample_n))\n",
    "print(tokenized_dataset_en)\n",
    "print(tokenized_dataset_it)"
   ]
  },
  {
   "cell_type": "code",
   "execution_count": null,
   "metadata": {},
   "outputs": [],
   "source": [
    "from datasets import concatenate_datasets\n",
    "\n",
    "# Assuming you have loaded the two datasets as `dataset1` and `dataset2`\n",
    "merged_dataset = concatenate_datasets([tokenized_dataset_en, tokenized_dataset_it])\n",
    "shuffled_dataset = merged_dataset.shuffle(seed=seed)\n",
    "shuffled_dataset"
   ]
  },
  {
   "cell_type": "code",
   "execution_count": null,
   "metadata": {},
   "outputs": [],
   "source": [
    "# # Load the tokenized_dataset from the pickle file\n",
    "# with open('/home/pgajo/working/data/datasets/English/Incels.is/IFC-22-EN_empty_datatype.pickle', 'rb') as file:\n",
    "#     tokenized_dataset_en = pickle.load(file)"
   ]
  },
  {
   "cell_type": "code",
   "execution_count": null,
   "metadata": {},
   "outputs": [],
   "source": [
    "data_collator = DataCollatorForLanguageModeling(tokenizer=tokenizer, mlm=True, mlm_probability=0.15)\n",
    "\n",
    "model = AutoModelForMaskedLM.from_pretrained(model_name)\n",
    "\n",
    "training_args = TrainingArguments(\n",
    "    output_dir='./results',\n",
    "    num_train_epochs=1,\n",
    "    per_device_train_batch_size=16,\n",
    "    save_steps=10_000,\n",
    "    save_total_limit=2,\n",
    "    logging_dir='./logs',\n",
    "    logging_steps=10,\n",
    "    report_to='none',\n",
    "    disable_tqdm = False\n",
    ")\n",
    "\n",
    "trainer = Trainer(\n",
    "    model=model,\n",
    "    args=training_args,\n",
    "    train_dataset=shuffled_dataset,\n",
    "    data_collator=data_collator,\n",
    "    tokenizer=tokenizer,\n",
    ")\n",
    "\n",
    "trainer.train(\n",
    "    # resume_from_checkpoint = True\n",
    "    )"
   ]
  },
  {
   "cell_type": "code",
   "execution_count": null,
   "metadata": {},
   "outputs": [],
   "source": [
    "from transformers import AutoModelForMaskedLM, AutoTokenizer\n",
    "import os\n",
    "\n",
    "# Replace these with the appropriate model and tokenizer names\n",
    "new_model_name = 'incel-'+model_name+'-'+str(int(len(shuffled_dataset)/1000))+'k'\n",
    "\n",
    "# Save the model and tokenizer to a directory\n",
    "output_dir = \"/home/pgajo/working/pt_models\"\n",
    "\n",
    "# Create the directory if it doesn't exist\n",
    "model_path = os.path.join(output_dir,new_model_name)\n",
    "\n",
    "if not os.path.exists(model_path):\n",
    "    os.makedirs(model_path)\n",
    "model_path"
   ]
  },
  {
   "cell_type": "code",
   "execution_count": null,
   "metadata": {},
   "outputs": [],
   "source": [
    "model.save_pretrained(model_path)\n",
    "tokenizer.save_pretrained(model_path)"
   ]
  },
  {
   "cell_type": "code",
   "execution_count": null,
   "metadata": {},
   "outputs": [],
   "source": []
  }
 ],
 "metadata": {
  "kernelspec": {
   "display_name": "pgajo-Fz_qUQZq",
   "language": "python",
   "name": "python3"
  },
  "language_info": {
   "codemirror_mode": {
    "name": "ipython",
    "version": 3
   },
   "file_extension": ".py",
   "mimetype": "text/x-python",
   "name": "python",
   "nbconvert_exporter": "python",
   "pygments_lexer": "ipython3",
   "version": "3.8.10"
  },
  "orig_nbformat": 4
 },
 "nbformat": 4,
 "nbformat_minor": 2
}
