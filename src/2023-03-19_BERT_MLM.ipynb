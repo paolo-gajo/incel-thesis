{
 "cells": [
  {
   "cell_type": "code",
   "execution_count": null,
   "metadata": {},
   "outputs": [],
   "source": [
    "import torch\n",
    "from datasets import Dataset\n",
    "from transformers import BertTokenizer, BertForMaskedLM, DataCollatorForLanguageModeling, AutoTokenizer, AutoModelForMaskedLM, Trainer, TrainingArguments\n",
    "import os\n",
    "import pickle\n",
    "\n",
    "# model_name = 'bert-base-uncased'\n",
    "model_name = 'roberta-base'\n",
    "\n",
    "tokenizer = AutoTokenizer.from_pretrained(model_name)\n",
    "\n",
    "# # Load your own corpus\n",
    "# def load_custom_corpus(file_path):\n",
    "#     import pandas as pd\n",
    "#     df = pd.read_csv(file_path)\n",
    "#     df = df.fillna('')\n",
    "#     df = df[df['data_type'] == ''] # only take rows that do not belong to train/dev/test of IFD-EN-5203\n",
    "#     sentences = [sent for sent in df['text']]\n",
    "#     return {'text': sentences}\n",
    "\n",
    "# file_path = '/home/pgajo/working/data/datasets/English/Incels.is/IFC-22-EN_datatype.csv'  # Replace this with the path to your corpus file\n",
    "\n",
    "# corpus = load_custom_corpus(file_path)\n",
    "\n",
    "# def tokenize_function(examples):\n",
    "#     return tokenizer((examples['text']), truncation=True, max_length=128, padding='max_length')\n",
    "\n",
    "# dataset = Dataset.from_dict(corpus)\n",
    "# tokenized_dataset = dataset.map(tokenize_function, batched=True, remove_columns=['text'])\n",
    "\n",
    "# filename = 'IFC-22-EN_empty_datatype.pickle'\n",
    "\n",
    "# if not os.path.isfile(filename):\n",
    "#     # Save the tokenized_dataset as a pickle file\n",
    "#     with open(filename, 'wb') as file:\n",
    "#         pickle.dump(tokenized_dataset, file)\n",
    "# else:\n",
    "#     print(f\"{filename} already exists. Not overwriting.\")\n",
    "\n",
    "# Load the tokenized_dataset from the pickle file\n",
    "with open('/home/pgajo/working/data/datasets/English/Incels.is/IFC-22-EN_empty_datatype.pickle', 'rb') as file:\n",
    "    tokenized_dataset = pickle.load(file)\n"
   ]
  },
  {
   "cell_type": "code",
   "execution_count": null,
   "metadata": {},
   "outputs": [],
   "source": [
    "# Set a seed to ensure reproducibility when shuffling\n",
    "seed = 42\n",
    "\n",
    "tokenized_dataset = tokenized_dataset.shuffle(seed=seed)\n",
    "tokenized_dataset = tokenized_dataset.select(range(100_000))\n",
    "tokenized_dataset"
   ]
  },
  {
   "cell_type": "code",
   "execution_count": null,
   "metadata": {},
   "outputs": [],
   "source": [
    "data_collator = DataCollatorForLanguageModeling(tokenizer=tokenizer, mlm=True, mlm_probability=0.15)\n",
    "\n",
    "model = AutoModelForMaskedLM.from_pretrained(model_name)\n",
    "\n",
    "training_args = TrainingArguments(\n",
    "    output_dir='./results',\n",
    "    num_train_epochs=1,\n",
    "    per_device_train_batch_size=16,\n",
    "    save_steps=10_000,\n",
    "    save_total_limit=2,\n",
    "    logging_dir='./logs',\n",
    "    logging_steps=10,\n",
    "    report_to='none',\n",
    "    disable_tqdm = False\n",
    ")\n",
    "\n",
    "trainer = Trainer(\n",
    "    model=model,\n",
    "    args=training_args,\n",
    "    train_dataset=tokenized_dataset,\n",
    "    data_collator=data_collator,\n",
    "    tokenizer=tokenizer,\n",
    ")\n",
    "\n",
    "trainer.train(\n",
    "    # resume_from_checkpoint = True\n",
    "    )"
   ]
  },
  {
   "cell_type": "code",
   "execution_count": null,
   "metadata": {},
   "outputs": [],
   "source": [
    "from transformers import AutoModelForMaskedLM, AutoTokenizer\n",
    "import os\n",
    "\n",
    "# Replace these with the appropriate model and tokenizer names\n",
    "new_model_name = 'incel-'+model_name+'-'+str(int(len(tokenized_dataset)/1000))+'k'\n",
    "\n",
    "# Save the model and tokenizer to a directory\n",
    "output_dir = \"/home/pgajo/working/pt_models\"\n",
    "\n",
    "# Create the directory if it doesn't exist\n",
    "model_path = os.path.join(output_dir,new_model_name)\n",
    "\n",
    "if not os.path.exists(model_path):\n",
    "    os.makedirs(model_path)\n",
    "model_path"
   ]
  },
  {
   "cell_type": "code",
   "execution_count": null,
   "metadata": {},
   "outputs": [],
   "source": [
    "model.save_pretrained(model_path)\n",
    "tokenizer.save_pretrained(model_path)"
   ]
  },
  {
   "cell_type": "code",
   "execution_count": null,
   "metadata": {},
   "outputs": [],
   "source": []
  }
 ],
 "metadata": {
  "kernelspec": {
   "display_name": "pgajo-Fz_qUQZq",
   "language": "python",
   "name": "python3"
  },
  "language_info": {
   "codemirror_mode": {
    "name": "ipython",
    "version": 3
   },
   "file_extension": ".py",
   "mimetype": "text/x-python",
   "name": "python",
   "nbconvert_exporter": "python",
   "pygments_lexer": "ipython3",
   "version": "3.8.10"
  },
  "orig_nbformat": 4
 },
 "nbformat": 4,
 "nbformat_minor": 2
}
