{
 "cells": [
  {
   "cell_type": "code",
   "execution_count": 1,
   "metadata": {},
   "outputs": [
    {
     "name": "stderr",
     "output_type": "stream",
     "text": [
      "2023-03-26 00:33:35.797928: I tensorflow/core/platform/cpu_feature_guard.cc:193] This TensorFlow binary is optimized with oneAPI Deep Neural Network Library (oneDNN) to use the following CPU instructions in performance-critical operations:  AVX2 AVX512F FMA\n",
      "To enable them in other operations, rebuild TensorFlow with the appropriate compiler flags.\n",
      "2023-03-26 00:33:36.494997: W tensorflow/compiler/xla/stream_executor/platform/default/dso_loader.cc:64] Could not load dynamic library 'libnvinfer.so.7'; dlerror: libnvinfer.so.7: cannot open shared object file: No such file or directory\n",
      "2023-03-26 00:33:36.495063: W tensorflow/compiler/xla/stream_executor/platform/default/dso_loader.cc:64] Could not load dynamic library 'libnvinfer_plugin.so.7'; dlerror: libnvinfer_plugin.so.7: cannot open shared object file: No such file or directory\n",
      "2023-03-26 00:33:36.495071: W tensorflow/compiler/tf2tensorrt/utils/py_utils.cc:38] TF-TRT Warning: Cannot dlopen some TensorRT libraries. If you would like to use Nvidia GPU with TensorRT, please make sure the missing libraries mentioned above are installed properly.\n"
     ]
    }
   ],
   "source": [
    "import torch\n",
    "from datasets import Dataset\n",
    "from transformers import BertTokenizer, BertForMaskedLM, DataCollatorForLanguageModeling, AutoTokenizer, AutoModelForMaskedLM, Trainer, TrainingArguments\n",
    "import os\n",
    "import pickle\n",
    "\n",
    "model_name = 'bert-base-multilingual-cased'\n",
    "# model_name = 'xlm-roberta-base'\n",
    "\n",
    "tokenizer = AutoTokenizer.from_pretrained(model_name)"
   ]
  },
  {
   "attachments": {},
   "cell_type": "markdown",
   "metadata": {},
   "source": [
    "# load corpora"
   ]
  },
  {
   "cell_type": "code",
   "execution_count": 2,
   "metadata": {},
   "outputs": [
    {
     "name": "stderr",
     "output_type": "stream",
     "text": [
      "/tmp/ipykernel_1568959/819416219.py:4: DtypeWarning: Columns (2,7) have mixed types. Specify dtype option on import or set low_memory=False.\n",
      "  df = pd.read_csv(file_path)\n"
     ]
    },
    {
     "data": {
      "application/vnd.jupyter.widget-view+json": {
       "model_id": "ac3945c138b9422a9b29c00a89a32af6",
       "version_major": 2,
       "version_minor": 0
      },
      "text/plain": [
       "Map:   0%|          | 0/4752924 [00:00<?, ? examples/s]"
      ]
     },
     "metadata": {},
     "output_type": "display_data"
    },
    {
     "data": {
      "application/vnd.jupyter.widget-view+json": {
       "model_id": "00043c8f353343a3b4998236b5267e6e",
       "version_major": 2,
       "version_minor": 0
      },
      "text/plain": [
       "Map:   0%|          | 0/627839 [00:00<?, ? examples/s]"
      ]
     },
     "metadata": {},
     "output_type": "display_data"
    },
    {
     "name": "stdout",
     "output_type": "stream",
     "text": [
      "Dataset({\n",
      "    features: ['input_ids', 'token_type_ids', 'attention_mask'],\n",
      "    num_rows: 4752924\n",
      "})\n",
      "Dataset({\n",
      "    features: ['input_ids', 'token_type_ids', 'attention_mask'],\n",
      "    num_rows: 627839\n",
      "})\n"
     ]
    }
   ],
   "source": [
    "# Load your own corpus\n",
    "def load_custom_corpus(file_path):\n",
    "    import pandas as pd\n",
    "    df = pd.read_csv(file_path)\n",
    "    df = df.fillna('')\n",
    "    df = df[df['data_type'] == 'unknown'] # only take rows that do not belong to train/dev/test of IFD-EN-5203\n",
    "    sentences = [sent for sent in df['text']]\n",
    "    return {'text': sentences}\n",
    "\n",
    "def tokenize_function(examples):\n",
    "    return tokenizer((examples['text']), truncation=True, max_length=128, padding='max_length')\n",
    "\n",
    "file_path_en = '/home/pgajo/working/data/datasets/English/Incels.is/IFC-22-EN_updated.csv'  # Replace this with the path to your corpus file\n",
    "corpus_en = load_custom_corpus(file_path_en)\n",
    "dataset_en = Dataset.from_dict(corpus_en)\n",
    "tokenized_dataset_en = dataset_en.map(tokenize_function, batched=True, remove_columns=['text'])\n",
    "\n",
    "file_path_it = '/home/pgajo/working/data/datasets/Italian/Il_forum_dei_brutti/IFC-22-IT_updated.csv'  # Replace this with the path to your corpus file\n",
    "corpus_it = load_custom_corpus(file_path_it)\n",
    "dataset_it = Dataset.from_dict(corpus_it)\n",
    "tokenized_dataset_it = dataset_it.map(tokenize_function, batched=True, remove_columns=['text'])\n",
    "print(tokenized_dataset_en)\n",
    "print(tokenized_dataset_it)"
   ]
  },
  {
   "cell_type": "markdown",
   "metadata": {},
   "source": [
    "# create pickles"
   ]
  },
  {
   "cell_type": "code",
   "execution_count": 3,
   "metadata": {},
   "outputs": [
    {
     "name": "stdout",
     "output_type": "stream",
     "text": [
      "/home/pgajo/working/data/datasets/English/Incels.is/IFC-22-EN_4752k.pickle\n",
      "/home/pgajo/working/data/datasets/Italian/Il_forum_dei_brutti/IFC-22-IT_627k.pickle\n"
     ]
    }
   ],
   "source": [
    "path_dataset_en = '/home/pgajo/working/data/datasets/English/Incels.is'\n",
    "filename_pickle_en = 'IFC-22-EN_'+str(int(len(tokenized_dataset_en)/1000))+'k.pickle'\n",
    "path_pickle_en = os.path.join(path_dataset_en,filename_pickle_en)\n",
    "print(path_pickle_en)\n",
    "if not os.path.isfile(path_pickle_en):\n",
    "    # Save the tokenized_dataset as a pickle file\n",
    "    with open(path_pickle_en, 'wb') as file:\n",
    "        pickle.dump(tokenized_dataset_en, file)\n",
    "else:\n",
    "    print(f\"{path_pickle_en} already exists. Not overwriting.\")\n",
    "\n",
    "path_dataset_it = '/home/pgajo/working/data/datasets/Italian/Il_forum_dei_brutti'\n",
    "filename_pickle_it = 'IFC-22-IT_'+str(int(len(tokenized_dataset_it)/1000))+'k.pickle'\n",
    "path_pickle_it = os.path.join(path_dataset_it,filename_pickle_it)\n",
    "print(path_pickle_it)\n",
    "if not os.path.isfile(path_pickle_it):\n",
    "    # Save the tokenized_dataset as a pickle file\n",
    "    with open(path_pickle_it, 'wb') as file:\n",
    "        pickle.dump(tokenized_dataset_it, file)\n",
    "else:\n",
    "    print(f\"{path_pickle_it} already exists. Not overwriting.\")"
   ]
  },
  {
   "attachments": {},
   "cell_type": "markdown",
   "metadata": {},
   "source": [
    "# subsample and create pickles"
   ]
  },
  {
   "cell_type": "code",
   "execution_count": null,
   "metadata": {},
   "outputs": [],
   "source": [
    "# Set a seed to ensure reproducibility when shuffling\n",
    "seed = 42\n",
    "sample_n_list = [5_000, 10_000, 50_000, 100_000, 500_000]\n",
    "\n",
    "for sample_n in sample_n_list:\n",
    "    shuffled_dataset_en = tokenized_dataset_en.shuffle(seed=seed)\n",
    "    sampled_dataset_en = shuffled_dataset_en.select(range(sample_n))\n",
    "    print(sampled_dataset_en)\n",
    "\n",
    "    shuffled_dataset_it = tokenized_dataset_it.shuffle(seed=seed)\n",
    "    sampled_dataset_it = shuffled_dataset_it.select(range(sample_n))\n",
    "    print(sampled_dataset_it)\n",
    "\n",
    "    path_dataset_en = '/home/pgajo/working/data/datasets/English/Incels.is'\n",
    "    filename_pickle_en = 'IFC-22-EN_'+str(int(sample_n/1000))+'k.pickle'\n",
    "    path_pickle_en = os.path.join(path_dataset_en,filename_pickle_en)\n",
    "\n",
    "    if not os.path.isfile(path_pickle_en):\n",
    "        # Save the tokenized_dataset as a pickle file\n",
    "        with open(path_pickle_en, 'wb') as file:\n",
    "            pickle.dump(sampled_dataset_en, file)\n",
    "    else:\n",
    "        print(f\"{path_pickle_en} already exists. Not overwriting.\")\n",
    "\n",
    "    path_dataset_it = '/home/pgajo/working/data/datasets/Italian/Il_forum_dei_brutti'\n",
    "    filename_pickle_it = 'IFC-22-IT_'+str(int(sample_n/1000))+'k.pickle'\n",
    "    path_pickle_it = os.path.join(path_dataset_it,filename_pickle_it)\n",
    "\n",
    "    if not os.path.isfile(path_pickle_it):\n",
    "        # Save the tokenized_dataset as a pickle file\n",
    "        with open(path_pickle_it, 'wb') as file:\n",
    "            pickle.dump(sampled_dataset_it, file)\n",
    "    else:\n",
    "        print(f\"{path_pickle_it} already exists. Not overwriting.\")"
   ]
  },
  {
   "cell_type": "code",
   "execution_count": 10,
   "metadata": {},
   "outputs": [
    {
     "name": "stdout",
     "output_type": "stream",
     "text": [
      "Dataset({\n",
      "    features: ['input_ids', 'token_type_ids', 'attention_mask'],\n",
      "    num_rows: 4752924\n",
      "})\n",
      "Dataset({\n",
      "    features: ['input_ids', 'token_type_ids', 'attention_mask'],\n",
      "    num_rows: 637833\n",
      "})\n"
     ]
    }
   ],
   "source": [
    "print(tokenized_dataset_en)\n",
    "print(tokenized_dataset_it)"
   ]
  },
  {
   "cell_type": "code",
   "execution_count": 12,
   "metadata": {},
   "outputs": [
    {
     "data": {
      "text/plain": [
       "637833"
      ]
     },
     "execution_count": 12,
     "metadata": {},
     "output_type": "execute_result"
    }
   ],
   "source": [
    "len(tokenized_dataset_it)"
   ]
  },
  {
   "cell_type": "code",
   "execution_count": 13,
   "metadata": {},
   "outputs": [
    {
     "data": {
      "text/plain": [
       "'637'"
      ]
     },
     "execution_count": 13,
     "metadata": {},
     "output_type": "execute_result"
    }
   ],
   "source": [
    "str(int(len(tokenized_dataset_it)/1000))"
   ]
  },
  {
   "cell_type": "code",
   "execution_count": 14,
   "metadata": {},
   "outputs": [
    {
     "name": "stdout",
     "output_type": "stream",
     "text": [
      "/home/pgajo/working/data/datasets/English/Incels.is/IFC-22-EN_4752k.pickle already exists. Not overwriting.\n"
     ]
    }
   ],
   "source": [
    "path_dataset_en = '/home/pgajo/working/data/datasets/English/Incels.is'\n",
    "filename_pickle_en = 'IFC-22-EN_'+str(int(len(tokenized_dataset_en)/1000))+'k.pickle'\n",
    "path_pickle_en = os.path.join(path_dataset_en,filename_pickle_en)\n",
    "\n",
    "if not os.path.isfile(path_pickle_en):\n",
    "    # Save the tokenized_dataset as a pickle file\n",
    "    with open(path_pickle_en, 'wb') as file:\n",
    "        pickle.dump(tokenized_dataset_en, file)\n",
    "else:\n",
    "    print(f\"{path_pickle_en} already exists. Not overwriting.\")\n",
    "\n",
    "path_dataset_it = '/home/pgajo/working/data/datasets/Italian/Il_forum_dei_brutti'\n",
    "filename_pickle_it = 'IFC-22-IT_'+str(int(len(tokenized_dataset_it)/1000))+'k.pickle'\n",
    "path_pickle_it = os.path.join(path_dataset_it,filename_pickle_it)\n",
    "\n",
    "if not os.path.isfile(path_pickle_it):\n",
    "    # Save the tokenized_dataset as a pickle file\n",
    "    with open(path_pickle_it, 'wb') as file:\n",
    "        pickle.dump(tokenized_dataset_it, file)\n",
    "else:\n",
    "    print(f\"{path_pickle_it} already exists. Not overwriting.\")"
   ]
  },
  {
   "attachments": {},
   "cell_type": "markdown",
   "metadata": {},
   "source": [
    "# load pickles"
   ]
  },
  {
   "cell_type": "code",
   "execution_count": 15,
   "metadata": {},
   "outputs": [
    {
     "ename": "FileNotFoundError",
     "evalue": "[Errno 2] No such file or directory: '/home/pgajo/working/data/datasets/English/Incels.is/IFC-22-EN.pickle'",
     "output_type": "error",
     "traceback": [
      "\u001b[0;31m---------------------------------------------------------------------------\u001b[0m",
      "\u001b[0;31mFileNotFoundError\u001b[0m                         Traceback (most recent call last)",
      "Cell \u001b[0;32mIn[15], line 4\u001b[0m\n\u001b[1;32m      1\u001b[0m path_pickle_en \u001b[39m=\u001b[39m \u001b[39m'\u001b[39m\u001b[39m/home/pgajo/working/data/datasets/English/Incels.is/IFC-22-EN.pickle\u001b[39m\u001b[39m'\u001b[39m\n\u001b[1;32m      3\u001b[0m \u001b[39m# Load the tokenized_dataset from the pickle file\u001b[39;00m\n\u001b[0;32m----> 4\u001b[0m \u001b[39mwith\u001b[39;00m \u001b[39mopen\u001b[39;49m(path_pickle_en, \u001b[39m'\u001b[39;49m\u001b[39mrb\u001b[39;49m\u001b[39m'\u001b[39;49m) \u001b[39mas\u001b[39;00m file:\n\u001b[1;32m      5\u001b[0m     tokenized_dataset_en \u001b[39m=\u001b[39m pickle\u001b[39m.\u001b[39mload(file)\n\u001b[1;32m      7\u001b[0m path_pickle_it \u001b[39m=\u001b[39m \u001b[39m'\u001b[39m\u001b[39m/home/pgajo/working/data/datasets/Italian/Il_forum_dei_brutti/IFC-22-IT.pickle\u001b[39m\u001b[39m'\u001b[39m\n",
      "File \u001b[0;32m~/.local/share/virtualenvs/pgajo-Fz_qUQZq/lib/python3.8/site-packages/IPython/core/interactiveshell.py:282\u001b[0m, in \u001b[0;36m_modified_open\u001b[0;34m(file, *args, **kwargs)\u001b[0m\n\u001b[1;32m    275\u001b[0m \u001b[39mif\u001b[39;00m file \u001b[39min\u001b[39;00m {\u001b[39m0\u001b[39m, \u001b[39m1\u001b[39m, \u001b[39m2\u001b[39m}:\n\u001b[1;32m    276\u001b[0m     \u001b[39mraise\u001b[39;00m \u001b[39mValueError\u001b[39;00m(\n\u001b[1;32m    277\u001b[0m         \u001b[39mf\u001b[39m\u001b[39m\"\u001b[39m\u001b[39mIPython won\u001b[39m\u001b[39m'\u001b[39m\u001b[39mt let you open fd=\u001b[39m\u001b[39m{\u001b[39;00mfile\u001b[39m}\u001b[39;00m\u001b[39m by default \u001b[39m\u001b[39m\"\u001b[39m\n\u001b[1;32m    278\u001b[0m         \u001b[39m\"\u001b[39m\u001b[39mas it is likely to crash IPython. If you know what you are doing, \u001b[39m\u001b[39m\"\u001b[39m\n\u001b[1;32m    279\u001b[0m         \u001b[39m\"\u001b[39m\u001b[39myou can use builtins\u001b[39m\u001b[39m'\u001b[39m\u001b[39m open.\u001b[39m\u001b[39m\"\u001b[39m\n\u001b[1;32m    280\u001b[0m     )\n\u001b[0;32m--> 282\u001b[0m \u001b[39mreturn\u001b[39;00m io_open(file, \u001b[39m*\u001b[39;49margs, \u001b[39m*\u001b[39;49m\u001b[39m*\u001b[39;49mkwargs)\n",
      "\u001b[0;31mFileNotFoundError\u001b[0m: [Errno 2] No such file or directory: '/home/pgajo/working/data/datasets/English/Incels.is/IFC-22-EN.pickle'"
     ]
    }
   ],
   "source": [
    "path_pickle_en = '/home/pgajo/working/data/datasets/English/Incels.is/IFC-22-EN.pickle'\n",
    "\n",
    "# Load the tokenized_dataset from the pickle file\n",
    "with open(path_pickle_en, 'rb') as file:\n",
    "    tokenized_dataset_en = pickle.load(file)\n",
    "\n",
    "path_pickle_it = '/home/pgajo/working/data/datasets/Italian/Il_forum_dei_brutti/IFC-22-IT.pickle'\n",
    "\n",
    "# Load the tokenized_dataset from the pickle file\n",
    "with open(path_pickle_it, 'rb') as file:\n",
    "    tokenized_dataset_it = pickle.load(file)"
   ]
  },
  {
   "cell_type": "code",
   "execution_count": null,
   "metadata": {},
   "outputs": [],
   "source": [
    "print(tokenized_dataset_en)\n",
    "print(tokenized_dataset_it)"
   ]
  },
  {
   "cell_type": "code",
   "execution_count": null,
   "metadata": {},
   "outputs": [],
   "source": [
    "from datasets import concatenate_datasets\n",
    "\n",
    "# Assuming you have loaded the two datasets as `dataset1` and `dataset2`\n",
    "merged_dataset = concatenate_datasets([tokenized_dataset_en, tokenized_dataset_it])\n",
    "shuffled_dataset = merged_dataset.shuffle(seed=seed)\n",
    "shuffled_dataset"
   ]
  },
  {
   "cell_type": "code",
   "execution_count": null,
   "metadata": {},
   "outputs": [],
   "source": [
    "# # Load the tokenized_dataset from the pickle file\n",
    "# with open('/home/pgajo/working/data/datasets/English/Incels.is/IFC-22-EN_empty_datatype.pickle', 'rb') as file:\n",
    "#     tokenized_dataset_en = pickle.load(file)"
   ]
  },
  {
   "cell_type": "code",
   "execution_count": null,
   "metadata": {},
   "outputs": [],
   "source": [
    "data_collator = DataCollatorForLanguageModeling(tokenizer=tokenizer, mlm=True, mlm_probability=0.15)\n",
    "\n",
    "model = AutoModelForMaskedLM.from_pretrained(model_name)\n",
    "\n",
    "training_args = TrainingArguments(\n",
    "    output_dir='./results',\n",
    "    num_train_epochs=1,\n",
    "    per_device_train_batch_size=32,\n",
    "    save_steps=10_000,\n",
    "    save_total_limit=2,\n",
    "    logging_dir='./logs',\n",
    "    logging_steps=10,\n",
    "    report_to='none',\n",
    "    disable_tqdm = False\n",
    ")\n",
    "\n",
    "trainer = Trainer(\n",
    "    model=model,\n",
    "    args=training_args,\n",
    "    train_dataset=shuffled_dataset,\n",
    "    data_collator=data_collator,\n",
    "    tokenizer=tokenizer,\n",
    ")\n",
    "\n",
    "trainer.train(\n",
    "    # resume_from_checkpoint = True\n",
    "    )"
   ]
  },
  {
   "cell_type": "code",
   "execution_count": null,
   "metadata": {},
   "outputs": [],
   "source": [
    "from transformers import AutoModelForMaskedLM, AutoTokenizer\n",
    "import os\n",
    "\n",
    "# Replace these with the appropriate model and tokenizer names\n",
    "new_model_name = 'incel-'+model_name+'-'+str(int(len(shuffled_dataset)/1000))+'k'\n",
    "\n",
    "# Save the model and tokenizer to a directory\n",
    "output_dir = \"/home/pgajo/working/pt_models\"\n",
    "\n",
    "# Create the directory if it doesn't exist\n",
    "model_path = os.path.join(output_dir,new_model_name)\n",
    "\n",
    "if not os.path.exists(model_path):\n",
    "    os.makedirs(model_path)\n",
    "model_path"
   ]
  },
  {
   "cell_type": "code",
   "execution_count": null,
   "metadata": {},
   "outputs": [],
   "source": [
    "model.save_pretrained(model_path)\n",
    "tokenizer.save_pretrained(model_path)"
   ]
  },
  {
   "cell_type": "code",
   "execution_count": null,
   "metadata": {},
   "outputs": [],
   "source": []
  }
 ],
 "metadata": {
  "kernelspec": {
   "display_name": "pgajo-Fz_qUQZq",
   "language": "python",
   "name": "python3"
  },
  "language_info": {
   "codemirror_mode": {
    "name": "ipython",
    "version": 3
   },
   "file_extension": ".py",
   "mimetype": "text/x-python",
   "name": "python",
   "nbconvert_exporter": "python",
   "pygments_lexer": "ipython3",
   "version": "3.8.10"
  },
  "orig_nbformat": 4
 },
 "nbformat": 4,
 "nbformat_minor": 2
}
